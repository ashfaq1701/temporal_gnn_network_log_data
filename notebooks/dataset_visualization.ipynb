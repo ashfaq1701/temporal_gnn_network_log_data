{
 "cells": [
  {
   "cell_type": "code",
   "execution_count": 1,
   "id": "initial_id",
   "metadata": {
    "collapsed": true,
    "ExecuteTime": {
     "end_time": "2024-08-26T21:55:24.372608Z",
     "start_time": "2024-08-26T21:55:24.165306Z"
    }
   },
   "outputs": [
    {
     "data": {
      "text/plain": "True"
     },
     "execution_count": 1,
     "metadata": {},
     "output_type": "execute_result"
    }
   ],
   "source": [
    "import matplotlib.pyplot as plt\n",
    "from dotenv import load_dotenv\n",
    "\n",
    "load_dotenv()"
   ]
  },
  {
   "cell_type": "code",
   "outputs": [],
   "source": [
    "from src.forecasting.informer.data.dataset import WorkloadPredictionDataset\n",
    "\n",
    "train_dataset = WorkloadPredictionDataset(\n",
    "    n_nodes=78,\n",
    "    d_embed=172,\n",
    "    dataset='train',\n",
    "    train_start_minute=0,\n",
    "    train_end_minute=11520,\n",
    "    valid_start_minute=11520,\n",
    "    valid_end_minute=15840,\n",
    "    test_start_minute=15840,\n",
    "    test_end_minute=20160,\n",
    "    seq_len=12,\n",
    "    label_len=6,\n",
    "    pred_len=3,\n",
    "    use_temporal_embedding=True\n",
    ")"
   ],
   "metadata": {
    "collapsed": false,
    "ExecuteTime": {
     "end_time": "2024-08-26T21:55:27.858880Z",
     "start_time": "2024-08-26T21:55:24.373680Z"
    }
   },
   "id": "7343e98fd9880cc",
   "execution_count": 2
  },
  {
   "cell_type": "code",
   "outputs": [],
   "source": [
    "for batch in train_dataset:\n",
    "    batch_x, batch_y, batch_x_mark, batch_y_mark = batch"
   ],
   "metadata": {
    "collapsed": false,
    "ExecuteTime": {
     "end_time": "2024-08-26T21:55:27.869233Z",
     "start_time": "2024-08-26T21:55:27.859638Z"
    }
   },
   "id": "e51c9bbc199245f8",
   "execution_count": 3
  },
  {
   "cell_type": "code",
   "outputs": [
    {
     "data": {
      "text/plain": "((11520, 13494), (11520, 78))"
     },
     "execution_count": 4,
     "metadata": {},
     "output_type": "execute_result"
    }
   ],
   "source": [
    "train_dataset.data.shape, train_dataset.labels.shape"
   ],
   "metadata": {
    "collapsed": false,
    "ExecuteTime": {
     "end_time": "2024-08-26T21:55:27.872237Z",
     "start_time": "2024-08-26T21:55:27.869833Z"
    }
   },
   "id": "d1a2cf84211708e8",
   "execution_count": 4
  },
  {
   "cell_type": "code",
   "outputs": [],
   "source": [
    "valid_dataset = WorkloadPredictionDataset(\n",
    "    n_nodes=78,\n",
    "    d_embed=172,\n",
    "    dataset='valid',\n",
    "    train_start_minute=0,\n",
    "    train_end_minute=11520,\n",
    "    valid_start_minute=11520,\n",
    "    valid_end_minute=15840,\n",
    "    test_start_minute=15840,\n",
    "    test_end_minute=20160,\n",
    "    seq_len=12,\n",
    "    label_len=6,\n",
    "    pred_len=3,\n",
    "    use_temporal_embedding=True\n",
    ")"
   ],
   "metadata": {
    "collapsed": false,
    "ExecuteTime": {
     "end_time": "2024-08-26T21:55:30.527164Z",
     "start_time": "2024-08-26T21:55:27.873547Z"
    }
   },
   "id": "ff65f255671879d7",
   "execution_count": 5
  },
  {
   "cell_type": "code",
   "outputs": [],
   "source": [
    "for batch in valid_dataset:\n",
    "    batch_x, batch_y, batch_x_mark, batch_y_mark = batch"
   ],
   "metadata": {
    "collapsed": false,
    "ExecuteTime": {
     "end_time": "2024-08-26T21:55:30.532521Z",
     "start_time": "2024-08-26T21:55:30.527904Z"
    }
   },
   "id": "a3486296fa9edb79",
   "execution_count": 6
  },
  {
   "cell_type": "code",
   "outputs": [
    {
     "data": {
      "text/plain": "((4320, 13494), (4320, 78))"
     },
     "execution_count": 7,
     "metadata": {},
     "output_type": "execute_result"
    }
   ],
   "source": [
    "valid_dataset.data.shape, valid_dataset.labels.shape"
   ],
   "metadata": {
    "collapsed": false,
    "ExecuteTime": {
     "end_time": "2024-08-26T21:55:30.535404Z",
     "start_time": "2024-08-26T21:55:30.533146Z"
    }
   },
   "id": "137fcaedfc55737e",
   "execution_count": 7
  },
  {
   "cell_type": "code",
   "outputs": [],
   "source": [
    "test_dataset = WorkloadPredictionDataset(\n",
    "    n_nodes=78,\n",
    "    d_embed=172,\n",
    "    dataset='test',\n",
    "    train_start_minute=0,\n",
    "    train_end_minute=11520,\n",
    "    valid_start_minute=11520,\n",
    "    valid_end_minute=15840,\n",
    "    test_start_minute=15840,\n",
    "    test_end_minute=20160,\n",
    "    seq_len=12,\n",
    "    label_len=6,\n",
    "    pred_len=3,\n",
    "    use_temporal_embedding=True\n",
    ")"
   ],
   "metadata": {
    "collapsed": false,
    "ExecuteTime": {
     "end_time": "2024-08-26T21:55:33.119474Z",
     "start_time": "2024-08-26T21:55:30.535987Z"
    }
   },
   "id": "149da12530f4fa1e",
   "execution_count": 8
  },
  {
   "cell_type": "code",
   "outputs": [
    {
     "data": {
      "text/plain": "((4320, 13494), (4320, 78))"
     },
     "execution_count": 9,
     "metadata": {},
     "output_type": "execute_result"
    }
   ],
   "source": [
    "test_dataset.data.shape, test_dataset.labels.shape"
   ],
   "metadata": {
    "collapsed": false,
    "ExecuteTime": {
     "end_time": "2024-08-26T21:55:33.122423Z",
     "start_time": "2024-08-26T21:55:33.120290Z"
    }
   },
   "id": "dd42dd1d21351c96",
   "execution_count": 9
  },
  {
   "cell_type": "code",
   "outputs": [],
   "source": [
    "for batch in test_dataset:\n",
    "    batch_x, batch_y, batch_x_mark, batch_y_mark = batch"
   ],
   "metadata": {
    "collapsed": false,
    "ExecuteTime": {
     "end_time": "2024-08-26T21:55:33.127516Z",
     "start_time": "2024-08-26T21:55:33.123057Z"
    }
   },
   "id": "1ddb0ecad665bd99",
   "execution_count": 10
  },
  {
   "cell_type": "code",
   "outputs": [],
   "source": [
    "train_dataset_without_embedding = WorkloadPredictionDataset(\n",
    "    n_nodes=78,\n",
    "    d_embed=172,\n",
    "    dataset='train',\n",
    "    train_start_minute=0,\n",
    "    train_end_minute=11520,\n",
    "    valid_start_minute=11520,\n",
    "    valid_end_minute=15840,\n",
    "    test_start_minute=15840,\n",
    "    test_end_minute=20160,\n",
    "    seq_len=12,\n",
    "    label_len=6,\n",
    "    pred_len=3,\n",
    "    use_temporal_embedding=False\n",
    ")"
   ],
   "metadata": {
    "collapsed": false,
    "ExecuteTime": {
     "end_time": "2024-08-26T21:55:35.233654Z",
     "start_time": "2024-08-26T21:55:33.128329Z"
    }
   },
   "id": "c823ff950047b090",
   "execution_count": 11
  },
  {
   "cell_type": "code",
   "outputs": [
    {
     "data": {
      "text/plain": "((11520, 78), (11520, 78))"
     },
     "execution_count": 12,
     "metadata": {},
     "output_type": "execute_result"
    }
   ],
   "source": [
    "train_dataset_without_embedding.data.shape, train_dataset_without_embedding.labels.shape"
   ],
   "metadata": {
    "collapsed": false,
    "ExecuteTime": {
     "end_time": "2024-08-26T21:55:35.236971Z",
     "start_time": "2024-08-26T21:55:35.234472Z"
    }
   },
   "id": "d933ea65663661be",
   "execution_count": 12
  },
  {
   "cell_type": "code",
   "outputs": [],
   "source": [
    "train_dataset_with_node = WorkloadPredictionDataset(\n",
    "    n_nodes=78,\n",
    "    d_embed=172,\n",
    "    dataset='train',\n",
    "    train_start_minute=0,\n",
    "    train_end_minute=11520,\n",
    "    valid_start_minute=11520,\n",
    "    valid_end_minute=15840,\n",
    "    test_start_minute=15840,\n",
    "    test_end_minute=20160,\n",
    "    seq_len=12,\n",
    "    label_len=6,\n",
    "    pred_len=3,\n",
    "    use_temporal_embedding=True,\n",
    "    node_id=4\n",
    ")"
   ],
   "metadata": {
    "collapsed": false,
    "ExecuteTime": {
     "end_time": "2024-08-26T21:55:35.720770Z",
     "start_time": "2024-08-26T21:55:35.237603Z"
    }
   },
   "id": "30b0940834a6fa3",
   "execution_count": 13
  },
  {
   "cell_type": "code",
   "outputs": [
    {
     "data": {
      "text/plain": "((11520, 173), (11520, 1))"
     },
     "execution_count": 14,
     "metadata": {},
     "output_type": "execute_result"
    }
   ],
   "source": [
    "train_dataset_with_node.data.shape, train_dataset_with_node.labels.shape"
   ],
   "metadata": {
    "collapsed": false,
    "ExecuteTime": {
     "end_time": "2024-08-26T21:55:35.725264Z",
     "start_time": "2024-08-26T21:55:35.723092Z"
    }
   },
   "id": "445217f1c74b4a39",
   "execution_count": 14
  },
  {
   "cell_type": "code",
   "outputs": [
    {
     "data": {
      "text/plain": "[<matplotlib.lines.Line2D at 0x124ee8a30>]"
     },
     "execution_count": 15,
     "metadata": {},
     "output_type": "execute_result"
    },
    {
     "data": {
      "text/plain": "<Figure size 640x480 with 1 Axes>",
      "image/png": "[encoded data removed]"
     },
     "metadata": {},
     "output_type": "display_data"
    }
   ],
   "source": [
    "from src.utils import get_workloads_for_specific_microservice\n",
    "\n",
    "workloads = get_workloads_for_specific_microservice(4)\n",
    "plt.plot(workloads)"
   ],
   "metadata": {
    "collapsed": false,
    "ExecuteTime": {
     "end_time": "2024-08-26T21:55:35.921103Z",
     "start_time": "2024-08-26T21:55:35.725906Z"
    }
   },
   "id": "deb3c6de697ba8ea",
   "execution_count": 15
  },
  {
   "cell_type": "code",
   "outputs": [],
   "source": [],
   "metadata": {
    "collapsed": false,
    "ExecuteTime": {
     "end_time": "2024-08-26T21:55:35.923249Z",
     "start_time": "2024-08-26T21:55:35.921884Z"
    }
   },
   "id": "f45ec1b676d1fa4c",
   "execution_count": 15
  }
 ],
 "metadata": {
  "kernelspec": {
   "display_name": "Python 3",
   "language": "python",
   "name": "python3"
  },
  "language_info": {
   "codemirror_mode": {
    "name": "ipython",
    "version": 2
   },
   "file_extension": ".py",
   "mimetype": "text/x-python",
   "name": "python",
   "nbconvert_exporter": "python",
   "pygments_lexer": "ipython2",
   "version": "2.7.6"
  }
 },
 "nbformat": 4,
 "nbformat_minor": 5
}
