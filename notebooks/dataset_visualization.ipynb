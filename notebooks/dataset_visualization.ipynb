{
 "cells": [
  {
   "cell_type": "code",
   "execution_count": 1,
   "id": "initial_id",
   "metadata": {
    "collapsed": true,
    "ExecuteTime": {
     "end_time": "2024-08-20T12:50:27.163349Z",
     "start_time": "2024-08-20T12:50:27.131068Z"
    }
   },
   "outputs": [
    {
     "data": {
      "text/plain": "True"
     },
     "execution_count": 1,
     "metadata": {},
     "output_type": "execute_result"
    }
   ],
   "source": [
    "import numpy as np\n",
    "from dotenv import load_dotenv\n",
    "\n",
    "load_dotenv()"
   ]
  },
  {
   "cell_type": "code",
   "outputs": [],
   "source": [
    "from src.forecasting.dataset import WorkloadPredictionDataset\n",
    "\n",
    "train_dataset = WorkloadPredictionDataset(\n",
    "    n_nodes=78,\n",
    "    d_embed=172,\n",
    "    is_train=True,\n",
    "    train_start_minute=0,\n",
    "    train_end_minute=4320,\n",
    "    valid_start_minute=4320,\n",
    "    valid_end_minute=5760,\n",
    "    seq_len=12,\n",
    "    label_len=6,\n",
    "    pred_len=3,\n",
    "    use_temporal_embedding=True\n",
    ")"
   ],
   "metadata": {
    "collapsed": false,
    "ExecuteTime": {
     "end_time": "2024-08-20T12:50:29.247671Z",
     "start_time": "2024-08-20T12:50:27.978078Z"
    }
   },
   "id": "7343e98fd9880cc",
   "execution_count": 2
  },
  {
   "cell_type": "code",
   "outputs": [],
   "source": [
    "for batch in train_dataset:\n",
    "    batch_x, batch_y, batch_x_mark, batch_y_mark = batch"
   ],
   "metadata": {
    "collapsed": false,
    "ExecuteTime": {
     "end_time": "2024-08-20T12:52:15.358331Z",
     "start_time": "2024-08-20T12:52:15.350517Z"
    }
   },
   "id": "e51c9bbc199245f8",
   "execution_count": 6
  },
  {
   "cell_type": "code",
   "outputs": [],
   "source": [
    "valid_dataset = WorkloadPredictionDataset(\n",
    "    n_nodes=78,\n",
    "    d_embed=172,\n",
    "    is_train=False,\n",
    "    train_start_minute=0,\n",
    "    train_end_minute=4320,\n",
    "    valid_start_minute=4320,\n",
    "    valid_end_minute=5760,\n",
    "    seq_len=12,\n",
    "    label_len=6,\n",
    "    pred_len=3,\n",
    "    use_temporal_embedding=True\n",
    ")"
   ],
   "metadata": {
    "collapsed": false,
    "ExecuteTime": {
     "end_time": "2024-08-20T12:52:35.094886Z",
     "start_time": "2024-08-20T12:52:34.674500Z"
    }
   },
   "id": "ff65f255671879d7",
   "execution_count": 7
  },
  {
   "cell_type": "code",
   "outputs": [],
   "source": [
    "train_dataset_without_embedding = WorkloadPredictionDataset(\n",
    "    n_nodes=78,\n",
    "    d_embed=172,\n",
    "    is_train=False,\n",
    "    train_start_minute=0,\n",
    "    train_end_minute=4320,\n",
    "    valid_start_minute=4320,\n",
    "    valid_end_minute=5760,\n",
    "    seq_len=12,\n",
    "    label_len=6,\n",
    "    pred_len=3,\n",
    "    use_temporal_embedding=False\n",
    ")"
   ],
   "metadata": {
    "collapsed": false,
    "ExecuteTime": {
     "end_time": "2024-08-20T12:53:06.940180Z",
     "start_time": "2024-08-20T12:53:06.640024Z"
    }
   },
   "id": "c823ff950047b090",
   "execution_count": 8
  },
  {
   "cell_type": "code",
   "outputs": [
    {
     "data": {
      "text/plain": "((1440, 78), (1440, 78))"
     },
     "execution_count": 10,
     "metadata": {},
     "output_type": "execute_result"
    }
   ],
   "source": [
    "train_dataset_without_embedding.data.shape, train_dataset_without_embedding.labels.shape"
   ],
   "metadata": {
    "collapsed": false,
    "ExecuteTime": {
     "end_time": "2024-08-20T12:53:42.925971Z",
     "start_time": "2024-08-20T12:53:42.923216Z"
    }
   },
   "id": "d933ea65663661be",
   "execution_count": 10
  },
  {
   "cell_type": "code",
   "outputs": [],
   "source": [
    "train_dataset_with_node = WorkloadPredictionDataset(\n",
    "    n_nodes=78,\n",
    "    d_embed=172,\n",
    "    is_train=False,\n",
    "    train_start_minute=0,\n",
    "    train_end_minute=4320,\n",
    "    valid_start_minute=4320,\n",
    "    valid_end_minute=5760,\n",
    "    seq_len=12,\n",
    "    label_len=6,\n",
    "    pred_len=3,\n",
    "    use_temporal_embedding=True,\n",
    "    node_id=8\n",
    ")"
   ],
   "metadata": {
    "collapsed": false,
    "ExecuteTime": {
     "end_time": "2024-08-20T12:54:19.373763Z",
     "start_time": "2024-08-20T12:54:19.261851Z"
    }
   },
   "id": "30b0940834a6fa3",
   "execution_count": 11
  },
  {
   "cell_type": "code",
   "outputs": [
    {
     "data": {
      "text/plain": "((1440, 173), (1440, 1))"
     },
     "execution_count": 12,
     "metadata": {},
     "output_type": "execute_result"
    }
   ],
   "source": [
    "train_dataset_with_node.data.shape, train_dataset_with_node.labels.shape"
   ],
   "metadata": {
    "collapsed": false,
    "ExecuteTime": {
     "end_time": "2024-08-20T12:54:43.393899Z",
     "start_time": "2024-08-20T12:54:43.390366Z"
    }
   },
   "id": "445217f1c74b4a39",
   "execution_count": 12
  },
  {
   "cell_type": "code",
   "outputs": [],
   "source": [],
   "metadata": {
    "collapsed": false
   },
   "id": "150ee8fa9ea491e8"
  }
 ],
 "metadata": {
  "kernelspec": {
   "display_name": "Python 3",
   "language": "python",
   "name": "python3"
  },
  "language_info": {
   "codemirror_mode": {
    "name": "ipython",
    "version": 2
   },
   "file_extension": ".py",
   "mimetype": "text/x-python",
   "name": "python",
   "nbconvert_exporter": "python",
   "pygments_lexer": "ipython2",
   "version": "2.7.6"
  }
 },
 "nbformat": 4,
 "nbformat_minor": 5
}
