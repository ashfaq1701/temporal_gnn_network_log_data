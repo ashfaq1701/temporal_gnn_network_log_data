{
 "cells": [
  {
   "cell_type": "code",
   "execution_count": 1,
   "id": "initial_id",
   "metadata": {
    "collapsed": true,
    "ExecuteTime": {
     "end_time": "2024-08-21T10:47:44.243713Z",
     "start_time": "2024-08-21T10:47:44.211573Z"
    }
   },
   "outputs": [
    {
     "data": {
      "text/plain": "True"
     },
     "execution_count": 1,
     "metadata": {},
     "output_type": "execute_result"
    }
   ],
   "source": [
    "import numpy as np\n",
    "from dotenv import load_dotenv\n",
    "\n",
    "load_dotenv()"
   ]
  },
  {
   "cell_type": "code",
   "outputs": [],
   "source": [
    "from src.forecasting.informer.data.dataset import WorkloadPredictionDataset\n",
    "\n",
    "train_dataset = WorkloadPredictionDataset(\n",
    "    n_nodes=78,\n",
    "    d_embed=172,\n",
    "    is_train=True,\n",
    "    train_start_minute=0,\n",
    "    train_end_minute=14400,\n",
    "    valid_start_minute=14400,\n",
    "    valid_end_minute=20160,\n",
    "    seq_len=12,\n",
    "    label_len=6,\n",
    "    pred_len=3,\n",
    "    use_temporal_embedding=True\n",
    ")"
   ],
   "metadata": {
    "collapsed": false,
    "ExecuteTime": {
     "end_time": "2024-08-21T10:47:46.660918Z",
     "start_time": "2024-08-21T10:47:44.244791Z"
    }
   },
   "id": "7343e98fd9880cc",
   "execution_count": 2
  },
  {
   "cell_type": "code",
   "outputs": [],
   "source": [
    "for batch in train_dataset:\n",
    "    batch_x, batch_y, batch_x_mark, batch_y_mark = batch"
   ],
   "metadata": {
    "collapsed": false,
    "ExecuteTime": {
     "end_time": "2024-08-21T10:47:46.673038Z",
     "start_time": "2024-08-21T10:47:46.661733Z"
    }
   },
   "id": "e51c9bbc199245f8",
   "execution_count": 3
  },
  {
   "cell_type": "code",
   "outputs": [
    {
     "data": {
      "text/plain": "((14400, 13494), (14400, 78))"
     },
     "execution_count": 4,
     "metadata": {},
     "output_type": "execute_result"
    }
   ],
   "source": [
    "train_dataset.data.shape, train_dataset.labels.shape"
   ],
   "metadata": {
    "collapsed": false,
    "ExecuteTime": {
     "end_time": "2024-08-21T10:47:46.676372Z",
     "start_time": "2024-08-21T10:47:46.673732Z"
    }
   },
   "id": "d1a2cf84211708e8",
   "execution_count": 4
  },
  {
   "cell_type": "code",
   "outputs": [],
   "source": [
    "valid_dataset = WorkloadPredictionDataset(\n",
    "    n_nodes=78,\n",
    "    d_embed=172,\n",
    "    is_train=False,\n",
    "    train_start_minute=0,\n",
    "    train_end_minute=14400,\n",
    "    valid_start_minute=14400,\n",
    "    valid_end_minute=20160,\n",
    "    seq_len=12,\n",
    "    label_len=6,\n",
    "    pred_len=3,\n",
    "    use_temporal_embedding=True\n",
    ")"
   ],
   "metadata": {
    "collapsed": false,
    "ExecuteTime": {
     "end_time": "2024-08-21T10:47:48.137643Z",
     "start_time": "2024-08-21T10:47:46.677833Z"
    }
   },
   "id": "ff65f255671879d7",
   "execution_count": 5
  },
  {
   "cell_type": "code",
   "outputs": [],
   "source": [
    "for batch in valid_dataset:\n",
    "    batch_x, batch_y, batch_x_mark, batch_y_mark = batch"
   ],
   "metadata": {
    "collapsed": false,
    "ExecuteTime": {
     "end_time": "2024-08-21T10:47:48.144113Z",
     "start_time": "2024-08-21T10:47:48.138448Z"
    }
   },
   "id": "a3486296fa9edb79",
   "execution_count": 6
  },
  {
   "cell_type": "code",
   "outputs": [],
   "source": [
    "train_dataset_without_embedding = WorkloadPredictionDataset(\n",
    "    n_nodes=78,\n",
    "    d_embed=172,\n",
    "    is_train=True,\n",
    "    train_start_minute=0,\n",
    "    train_end_minute=14400,\n",
    "    valid_start_minute=14400,\n",
    "    valid_end_minute=20160,\n",
    "    seq_len=12,\n",
    "    label_len=6,\n",
    "    pred_len=3,\n",
    "    use_temporal_embedding=False\n",
    ")"
   ],
   "metadata": {
    "collapsed": false,
    "ExecuteTime": {
     "end_time": "2024-08-21T10:47:49.112791Z",
     "start_time": "2024-08-21T10:47:48.144842Z"
    }
   },
   "id": "c823ff950047b090",
   "execution_count": 7
  },
  {
   "cell_type": "code",
   "outputs": [
    {
     "data": {
      "text/plain": "((14400, 78), (14400, 78))"
     },
     "execution_count": 8,
     "metadata": {},
     "output_type": "execute_result"
    }
   ],
   "source": [
    "train_dataset_without_embedding.data.shape, train_dataset_without_embedding.labels.shape"
   ],
   "metadata": {
    "collapsed": false,
    "ExecuteTime": {
     "end_time": "2024-08-21T10:47:49.116023Z",
     "start_time": "2024-08-21T10:47:49.113625Z"
    }
   },
   "id": "d933ea65663661be",
   "execution_count": 8
  },
  {
   "cell_type": "code",
   "outputs": [],
   "source": [
    "train_dataset_with_node = WorkloadPredictionDataset(\n",
    "    n_nodes=78,\n",
    "    d_embed=172,\n",
    "    is_train=True,\n",
    "    train_start_minute=0,\n",
    "    train_end_minute=14400,\n",
    "    valid_start_minute=14400,\n",
    "    valid_end_minute=20160,\n",
    "    seq_len=12,\n",
    "    label_len=6,\n",
    "    pred_len=3,\n",
    "    use_temporal_embedding=True,\n",
    "    node_id=8\n",
    ")"
   ],
   "metadata": {
    "collapsed": false,
    "ExecuteTime": {
     "end_time": "2024-08-21T10:47:49.454259Z",
     "start_time": "2024-08-21T10:47:49.116725Z"
    }
   },
   "id": "30b0940834a6fa3",
   "execution_count": 9
  },
  {
   "cell_type": "code",
   "outputs": [
    {
     "data": {
      "text/plain": "((14400, 173), (14400, 1))"
     },
     "execution_count": 10,
     "metadata": {},
     "output_type": "execute_result"
    }
   ],
   "source": [
    "train_dataset_with_node.data.shape, train_dataset_with_node.labels.shape"
   ],
   "metadata": {
    "collapsed": false,
    "ExecuteTime": {
     "end_time": "2024-08-21T10:47:49.457302Z",
     "start_time": "2024-08-21T10:47:49.455143Z"
    }
   },
   "id": "445217f1c74b4a39",
   "execution_count": 10
  },
  {
   "cell_type": "code",
   "outputs": [],
   "source": [],
   "metadata": {
    "collapsed": false,
    "ExecuteTime": {
     "end_time": "2024-08-21T10:47:49.459346Z",
     "start_time": "2024-08-21T10:47:49.458095Z"
    }
   },
   "id": "deb3c6de697ba8ea",
   "execution_count": 10
  }
 ],
 "metadata": {
  "kernelspec": {
   "display_name": "Python 3",
   "language": "python",
   "name": "python3"
  },
  "language_info": {
   "codemirror_mode": {
    "name": "ipython",
    "version": 2
   },
   "file_extension": ".py",
   "mimetype": "text/x-python",
   "name": "python",
   "nbconvert_exporter": "python",
   "pygments_lexer": "ipython2",
   "version": "2.7.6"
  }
 },
 "nbformat": 4,
 "nbformat_minor": 5
}
