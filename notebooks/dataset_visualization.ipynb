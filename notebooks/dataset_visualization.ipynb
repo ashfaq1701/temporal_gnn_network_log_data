{
 "cells": [
  {
   "cell_type": "code",
   "execution_count": 1,
   "id": "initial_id",
   "metadata": {
    "collapsed": true,
    "ExecuteTime": {
     "end_time": "2024-08-21T01:01:06.507098Z",
     "start_time": "2024-08-21T01:01:06.475284Z"
    }
   },
   "outputs": [
    {
     "data": {
      "text/plain": "True"
     },
     "execution_count": 1,
     "metadata": {},
     "output_type": "execute_result"
    }
   ],
   "source": [
    "import numpy as np\n",
    "from dotenv import load_dotenv\n",
    "\n",
    "load_dotenv()"
   ]
  },
  {
   "cell_type": "code",
   "outputs": [],
   "source": [
    "from src.forecasting.informer.data.dataset import WorkloadPredictionDataset\n",
    "\n",
    "train_dataset = WorkloadPredictionDataset(\n",
    "    n_nodes=78,\n",
    "    d_embed=172,\n",
    "    is_train=True,\n",
    "    train_start_minute=0,\n",
    "    train_end_minute=14400,\n",
    "    valid_start_minute=14400,\n",
    "    valid_end_minute=20160,\n",
    "    seq_len=12,\n",
    "    label_len=6,\n",
    "    pred_len=3,\n",
    "    use_temporal_embedding=True\n",
    ")"
   ],
   "metadata": {
    "collapsed": false,
    "ExecuteTime": {
     "end_time": "2024-08-21T01:01:08.956524Z",
     "start_time": "2024-08-21T01:01:06.508226Z"
    }
   },
   "id": "7343e98fd9880cc",
   "execution_count": 2
  },
  {
   "cell_type": "code",
   "outputs": [
    {
     "name": "stdout",
     "output_type": "stream",
     "text": [
      "[[   0.   18. 3743. ...    0.    0.    0.]\n",
      " [   0.   38. 2868. ...    0.    0.    0.]\n",
      " [   0.   10. 3007. ...    0.    0.    0.]\n",
      " ...\n",
      " [   0.   21. 3212. ...    0.    0.    0.]\n",
      " [   0.   19. 3986. ...    0.    0.    0.]\n",
      " [   0.   26. 3394. ...    0.    0.    0.]]\n"
     ]
    }
   ],
   "source": [
    "for batch in train_dataset:\n",
    "    batch_x, batch_y, batch_x_mark, batch_y_mark = batch\n",
    "    print(batch_x)\n",
    "    break"
   ],
   "metadata": {
    "collapsed": false,
    "ExecuteTime": {
     "end_time": "2024-08-21T01:04:23.494921Z",
     "start_time": "2024-08-21T01:04:23.490822Z"
    }
   },
   "id": "e51c9bbc199245f8",
   "execution_count": 10
  },
  {
   "cell_type": "code",
   "outputs": [
    {
     "data": {
      "text/plain": "((14400, 13494), (14400, 78))"
     },
     "execution_count": 4,
     "metadata": {},
     "output_type": "execute_result"
    }
   ],
   "source": [
    "train_dataset.data.shape, train_dataset.labels.shape"
   ],
   "metadata": {
    "collapsed": false,
    "ExecuteTime": {
     "end_time": "2024-08-21T01:01:08.972280Z",
     "start_time": "2024-08-21T01:01:08.970212Z"
    }
   },
   "id": "d1a2cf84211708e8",
   "execution_count": 4
  },
  {
   "cell_type": "code",
   "outputs": [],
   "source": [
    "valid_dataset = WorkloadPredictionDataset(\n",
    "    n_nodes=78,\n",
    "    d_embed=172,\n",
    "    is_train=False,\n",
    "    train_start_minute=0,\n",
    "    train_end_minute=14400,\n",
    "    valid_start_minute=14400,\n",
    "    valid_end_minute=20160,\n",
    "    seq_len=12,\n",
    "    label_len=6,\n",
    "    pred_len=3,\n",
    "    use_temporal_embedding=True\n",
    ")"
   ],
   "metadata": {
    "collapsed": false,
    "ExecuteTime": {
     "end_time": "2024-08-21T01:01:09.946443Z",
     "start_time": "2024-08-21T01:01:08.972913Z"
    }
   },
   "id": "ff65f255671879d7",
   "execution_count": 5
  },
  {
   "cell_type": "code",
   "outputs": [],
   "source": [
    "train_dataset_without_embedding = WorkloadPredictionDataset(\n",
    "    n_nodes=78,\n",
    "    d_embed=172,\n",
    "    is_train=True,\n",
    "    train_start_minute=0,\n",
    "    train_end_minute=14400,\n",
    "    valid_start_minute=14400,\n",
    "    valid_end_minute=20160,\n",
    "    seq_len=12,\n",
    "    label_len=6,\n",
    "    pred_len=3,\n",
    "    use_temporal_embedding=False\n",
    ")"
   ],
   "metadata": {
    "collapsed": false,
    "ExecuteTime": {
     "end_time": "2024-08-21T01:01:10.810266Z",
     "start_time": "2024-08-21T01:01:09.947213Z"
    }
   },
   "id": "c823ff950047b090",
   "execution_count": 6
  },
  {
   "cell_type": "code",
   "outputs": [
    {
     "data": {
      "text/plain": "((14400, 78), (14400, 78))"
     },
     "execution_count": 7,
     "metadata": {},
     "output_type": "execute_result"
    }
   ],
   "source": [
    "train_dataset_without_embedding.data.shape, train_dataset_without_embedding.labels.shape"
   ],
   "metadata": {
    "collapsed": false,
    "ExecuteTime": {
     "end_time": "2024-08-21T01:01:10.813375Z",
     "start_time": "2024-08-21T01:01:10.811099Z"
    }
   },
   "id": "d933ea65663661be",
   "execution_count": 7
  },
  {
   "cell_type": "code",
   "outputs": [],
   "source": [
    "train_dataset_with_node = WorkloadPredictionDataset(\n",
    "    n_nodes=78,\n",
    "    d_embed=172,\n",
    "    is_train=True,\n",
    "    train_start_minute=0,\n",
    "    train_end_minute=14400,\n",
    "    valid_start_minute=14400,\n",
    "    valid_end_minute=20160,\n",
    "    seq_len=12,\n",
    "    label_len=6,\n",
    "    pred_len=3,\n",
    "    use_temporal_embedding=True,\n",
    "    node_id=8\n",
    ")"
   ],
   "metadata": {
    "collapsed": false,
    "ExecuteTime": {
     "end_time": "2024-08-21T01:01:11.315216Z",
     "start_time": "2024-08-21T01:01:10.813926Z"
    }
   },
   "id": "30b0940834a6fa3",
   "execution_count": 8
  },
  {
   "cell_type": "code",
   "outputs": [
    {
     "data": {
      "text/plain": "((14400, 173), (14400, 1))"
     },
     "execution_count": 9,
     "metadata": {},
     "output_type": "execute_result"
    }
   ],
   "source": [
    "train_dataset_with_node.data.shape, train_dataset_with_node.labels.shape"
   ],
   "metadata": {
    "collapsed": false,
    "ExecuteTime": {
     "end_time": "2024-08-21T01:01:11.318221Z",
     "start_time": "2024-08-21T01:01:11.316062Z"
    }
   },
   "id": "445217f1c74b4a39",
   "execution_count": 9
  },
  {
   "cell_type": "code",
   "outputs": [],
   "source": [],
   "metadata": {
    "collapsed": false,
    "ExecuteTime": {
     "end_time": "2024-08-21T01:01:11.320880Z",
     "start_time": "2024-08-21T01:01:11.319818Z"
    }
   },
   "id": "deb3c6de697ba8ea",
   "execution_count": 9
  }
 ],
 "metadata": {
  "kernelspec": {
   "display_name": "Python 3",
   "language": "python",
   "name": "python3"
  },
  "language_info": {
   "codemirror_mode": {
    "name": "ipython",
    "version": 2
   },
   "file_extension": ".py",
   "mimetype": "text/x-python",
   "name": "python",
   "nbconvert_exporter": "python",
   "pygments_lexer": "ipython2",
   "version": "2.7.6"
  }
 },
 "nbformat": 4,
 "nbformat_minor": 5
}
