{
 "cells": [
  {
   "cell_type": "code",
   "outputs": [],
   "source": [
    "import matplotlib.pyplot as plt\n",
    "import numpy as np\n",
    "import pickle\n",
    "from pathlib import Path"
   ],
   "metadata": {
    "collapsed": false,
    "ExecuteTime": {
     "end_time": "2024-09-27T10:42:26.471408Z",
     "start_time": "2024-09-27T10:42:26.467279Z"
    }
   },
   "id": "d5e7c2b3d15e55f9",
   "execution_count": 120
  },
  {
   "cell_type": "code",
   "outputs": [],
   "source": [
    "TRAIN_NODE_ID = 25\n",
    "TEST_NODE_ID = 4\n",
    "IS_REVERSED = False"
   ],
   "metadata": {
    "collapsed": false,
    "ExecuteTime": {
     "end_time": "2024-09-27T10:42:26.489809Z",
     "start_time": "2024-09-27T10:42:26.488055Z"
    }
   },
   "id": "ea4c1d4007a93e7",
   "execution_count": 121
  },
  {
   "cell_type": "code",
   "outputs": [],
   "source": [
    "DEFAULT_BASE_PATH                  = '/Users/ashfaq/Documents/alibaba_gnn_results_1'\n",
    "TRAIN_25_TEST_4_BASE_PATH          = '/Users/ashfaq/Documents/alibaba_gnn_results_7'\n",
    "TRAIN_25_REVERSED_BASE_PATH        = '/Users/ashfaq/Documents/alibaba_gnn_results_8'\n",
    "TRAIN_25_TEST_4_REVERSED_BASE_PATH = '/Users/ashfaq/Documents/alibaba_gnn_results_9'"
   ],
   "metadata": {
    "collapsed": false,
    "ExecuteTime": {
     "end_time": "2024-09-27T10:42:26.517107Z",
     "start_time": "2024-09-27T10:42:26.515017Z"
    }
   },
   "id": "5c184ddd30f3317f",
   "execution_count": 122
  },
  {
   "cell_type": "code",
   "outputs": [],
   "source": [
    "PLOTS_PATH = f'../plots/metrics/train_{TRAIN_NODE_ID}_test_{TEST_NODE_ID}{\"_reversed\" if IS_REVERSED else \"\"}'\n",
    "path = Path(PLOTS_PATH)\n",
    "path.mkdir(parents=True, exist_ok=True)"
   ],
   "metadata": {
    "collapsed": false,
    "ExecuteTime": {
     "end_time": "2024-09-27T10:42:26.539977Z",
     "start_time": "2024-09-27T10:42:26.537749Z"
    }
   },
   "id": "97305ce1fd6fafe4",
   "execution_count": 123
  },
  {
   "cell_type": "code",
   "outputs": [],
   "source": [
    "RESULTS_FOLDER_PATH_DEFAULT = f'{DEFAULT_BASE_PATH}/workload_prediction_results_{TRAIN_NODE_ID}'\n",
    "RESULTS_FOLDER_PATH_TRAIN_25_TEST_4 = f'{TRAIN_25_TEST_4_BASE_PATH}/workload_prediction_results_{TRAIN_NODE_ID}'\n",
    "RESULTS_FOLDER_PATH_TRAIN_25_REVERSED = f'{TRAIN_25_REVERSED_BASE_PATH}/workload_prediction_results_{TRAIN_NODE_ID}'\n",
    "RESULTS_FOLDER_PATH_TRAIN_25_TEST_4_REVERSED = f'{TRAIN_25_TEST_4_REVERSED_BASE_PATH}/workload_prediction_results_{TRAIN_NODE_ID}'"
   ],
   "metadata": {
    "collapsed": false,
    "ExecuteTime": {
     "end_time": "2024-09-27T10:42:26.558032Z",
     "start_time": "2024-09-27T10:42:26.556230Z"
    }
   },
   "id": "efa4e25ca421f5d0",
   "execution_count": 124
  },
  {
   "cell_type": "code",
   "outputs": [],
   "source": [
    "univariate_with_embedding_path_3_default = f'{RESULTS_FOLDER_PATH_DEFAULT}/univariate_with_embedding/results/informer_sl12_ll6_pl3_dm1024_nh8_el2_dl1_df2048_atprob_fc5_ebtimeF_dtTrue_mxTrue'\n",
    "\n",
    "univariate_without_embedding_path_3_default = f'{RESULTS_FOLDER_PATH_DEFAULT}/univariate_with_embedding/results/informer_sl12_ll6_pl3_dm1024_nh8_el2_dl1_df2048_atprob_fc5_ebtimeF_dtTrue_mxTrue'\n",
    "\n",
    "univariate_with_embedding_path_12_default = f'{RESULTS_FOLDER_PATH_DEFAULT}/univariate_with_embedding_long_range_pred/results/informer_sl48_ll24_pl12_dm1024_nh8_el2_dl1_df2048_atprob_fc5_ebtimeF_dtTrue_mxTrue'\n",
    "\n",
    "univariate_without_embedding_path_12_default = f'{RESULTS_FOLDER_PATH_DEFAULT}/univariate_without_embedding_long_range_pred/results/informer_sl48_ll24_pl12_dm1024_nh8_el2_dl1_df2048_atprob_fc5_ebtimeF_dtTrue_mxTrue'\n",
    "\n",
    "univariate_with_embedding_path_24_default = f'{RESULTS_FOLDER_PATH_DEFAULT}/univariate_with_embedding_long_range_pred_24/results/informer_sl96_ll48_pl24_dm1024_nh8_el2_dl1_df2048_atprob_fc5_ebtimeF_dtTrue_mxTrue'\n",
    "\n",
    "univariate_without_embedding_path_24_default = f'{RESULTS_FOLDER_PATH_DEFAULT}/univariate_without_embedding_long_range_pred_24/results/informer_sl96_ll48_pl24_dm1024_nh8_el2_dl1_df2048_atprob_fc5_ebtimeF_dtTrue_mxTrue'\n",
    "\n",
    "univariate_with_embedding_path_60_default = f'{RESULTS_FOLDER_PATH_DEFAULT}/univariate_with_embedding_long_range_pred_60/results/informer_sl240_ll120_pl60_dm2048_nh8_el2_dl1_df2048_atprob_fc5_ebtimeF_dtTrue_mxTrue'\n",
    "\n",
    "univariate_without_embedding_path_60_default = f'{RESULTS_FOLDER_PATH_DEFAULT}/univariate_without_embedding_long_range_pred_60/results/informer_sl240_ll120_pl60_dm2048_nh8_el2_dl1_df2048_atprob_fc5_ebtimeF_dtTrue_mxTrue'"
   ],
   "metadata": {
    "collapsed": false,
    "ExecuteTime": {
     "end_time": "2024-09-27T10:42:26.578368Z",
     "start_time": "2024-09-27T10:42:26.576072Z"
    }
   },
   "id": "e58b9d080aeec915",
   "execution_count": 125
  },
  {
   "cell_type": "code",
   "outputs": [],
   "source": [
    "univariate_with_embedding_path_3_train_25_test_4 = f'{RESULTS_FOLDER_PATH_TRAIN_25_TEST_4}/univariate_with_embedding/results/informer_sl12_ll6_pl3_dm1024_nh8_el2_dl1_df2048_atprob_fc5_ebtimeF_dtTrue_mxTrue'\n",
    "\n",
    "univariate_without_embedding_path_3_train_25_test_4 = f'{RESULTS_FOLDER_PATH_TRAIN_25_TEST_4}/univariate_with_embedding/results/informer_sl12_ll6_pl3_dm1024_nh8_el2_dl1_df2048_atprob_fc5_ebtimeF_dtTrue_mxTrue'\n",
    "\n",
    "univariate_with_embedding_path_12_train_25_test_4 = f'{RESULTS_FOLDER_PATH_TRAIN_25_TEST_4}/univariate_with_embedding_long_range_pred/results/informer_sl48_ll24_pl12_dm1024_nh8_el2_dl1_df2048_atprob_fc5_ebtimeF_dtTrue_mxTrue'\n",
    "\n",
    "univariate_without_embedding_path_12_train_25_test_4 = f'{RESULTS_FOLDER_PATH_TRAIN_25_TEST_4}/univariate_without_embedding_long_range_pred/results/informer_sl48_ll24_pl12_dm1024_nh8_el2_dl1_df2048_atprob_fc5_ebtimeF_dtTrue_mxTrue'\n",
    "\n",
    "univariate_with_embedding_path_24_train_25_test_4 = f'{RESULTS_FOLDER_PATH_TRAIN_25_TEST_4}/univariate_with_embedding_long_range_pred_24/results/informer_sl96_ll48_pl24_dm1024_nh8_el2_dl1_df2048_atprob_fc5_ebtimeF_dtTrue_mxTrue'\n",
    "\n",
    "univariate_without_embedding_path_24_train_25_test_4 = f'{RESULTS_FOLDER_PATH_TRAIN_25_TEST_4}/univariate_without_embedding_long_range_pred_24/results/informer_sl96_ll48_pl24_dm1024_nh8_el2_dl1_df2048_atprob_fc5_ebtimeF_dtTrue_mxTrue'\n",
    "\n",
    "univariate_with_embedding_path_60_train_25_test_4 = f'{RESULTS_FOLDER_PATH_TRAIN_25_TEST_4}/univariate_with_embedding_long_range_pred_60/results/informer_sl240_ll120_pl60_dm2048_nh8_el2_dl1_df2048_atprob_fc5_ebtimeF_dtTrue_mxTrue'\n",
    "\n",
    "univariate_without_embedding_path_60_train_25_test_4 = f'{RESULTS_FOLDER_PATH_TRAIN_25_TEST_4}/univariate_without_embedding_long_range_pred_60/results/informer_sl240_ll120_pl60_dm2048_nh8_el2_dl1_df2048_atprob_fc5_ebtimeF_dtTrue_mxTrue'"
   ],
   "metadata": {
    "collapsed": false,
    "ExecuteTime": {
     "end_time": "2024-09-27T10:42:26.607740Z",
     "start_time": "2024-09-27T10:42:26.605470Z"
    }
   },
   "id": "f16ec7fd64394f20",
   "execution_count": 126
  },
  {
   "cell_type": "code",
   "outputs": [],
   "source": [
    "univariate_with_embedding_path_3_train_25_reversed = f'{RESULTS_FOLDER_PATH_TRAIN_25_REVERSED}/univariate_with_embedding/results/informer_sl12_ll6_pl3_dm1024_nh8_el2_dl1_df2048_atprob_fc5_ebtimeF_dtTrue_mxTrue'\n",
    "\n",
    "univariate_without_embedding_path_3_train_25_reversed = f'{RESULTS_FOLDER_PATH_TRAIN_25_REVERSED}/univariate_with_embedding/results/informer_sl12_ll6_pl3_dm1024_nh8_el2_dl1_df2048_atprob_fc5_ebtimeF_dtTrue_mxTrue'\n",
    "\n",
    "univariate_with_embedding_path_12_train_25_reversed = f'{RESULTS_FOLDER_PATH_TRAIN_25_REVERSED}/univariate_with_embedding_long_range_pred/results/informer_sl48_ll24_pl12_dm1024_nh8_el2_dl1_df2048_atprob_fc5_ebtimeF_dtTrue_mxTrue'\n",
    "\n",
    "univariate_without_embedding_path_12_train_25_reversed = f'{RESULTS_FOLDER_PATH_TRAIN_25_REVERSED}/univariate_without_embedding_long_range_pred/results/informer_sl48_ll24_pl12_dm1024_nh8_el2_dl1_df2048_atprob_fc5_ebtimeF_dtTrue_mxTrue'\n",
    "\n",
    "univariate_with_embedding_path_24_train_25_reversed = f'{RESULTS_FOLDER_PATH_TRAIN_25_REVERSED}/univariate_with_embedding_long_range_pred_24/results/informer_sl96_ll48_pl24_dm1024_nh8_el2_dl1_df2048_atprob_fc5_ebtimeF_dtTrue_mxTrue'\n",
    "\n",
    "univariate_without_embedding_path_24_train_25_reversed = f'{RESULTS_FOLDER_PATH_TRAIN_25_REVERSED}/univariate_without_embedding_long_range_pred_24/results/informer_sl96_ll48_pl24_dm1024_nh8_el2_dl1_df2048_atprob_fc5_ebtimeF_dtTrue_mxTrue'\n",
    "\n",
    "univariate_with_embedding_path_60_train_25_reversed = f'{RESULTS_FOLDER_PATH_TRAIN_25_REVERSED}/univariate_with_embedding_long_range_pred_60/results/informer_sl240_ll120_pl60_dm2048_nh8_el2_dl1_df2048_atprob_fc5_ebtimeF_dtTrue_mxTrue'\n",
    "\n",
    "univariate_without_embedding_path_60_train_25_reversed = f'{RESULTS_FOLDER_PATH_TRAIN_25_REVERSED}/univariate_without_embedding_long_range_pred_60/results/informer_sl240_ll120_pl60_dm2048_nh8_el2_dl1_df2048_atprob_fc5_ebtimeF_dtTrue_mxTrue'"
   ],
   "metadata": {
    "collapsed": false,
    "ExecuteTime": {
     "end_time": "2024-09-27T10:42:26.626409Z",
     "start_time": "2024-09-27T10:42:26.623956Z"
    }
   },
   "id": "cf59fc5b80f4219a",
   "execution_count": 127
  },
  {
   "cell_type": "code",
   "outputs": [],
   "source": [
    "univariate_with_embedding_path_3_train_25_test_4_reversed = f'{RESULTS_FOLDER_PATH_TRAIN_25_TEST_4_REVERSED}/univariate_with_embedding/results/informer_sl12_ll6_pl3_dm1024_nh8_el2_dl1_df2048_atprob_fc5_ebtimeF_dtTrue_mxTrue'\n",
    "\n",
    "univariate_without_embedding_path_3_train_25_test_4_reversed = f'{RESULTS_FOLDER_PATH_TRAIN_25_TEST_4_REVERSED}/univariate_with_embedding/results/informer_sl12_ll6_pl3_dm1024_nh8_el2_dl1_df2048_atprob_fc5_ebtimeF_dtTrue_mxTrue'\n",
    "\n",
    "univariate_with_embedding_path_12_train_25_test_4_reversed = f'{RESULTS_FOLDER_PATH_TRAIN_25_TEST_4_REVERSED}/univariate_with_embedding_long_range_pred/results/informer_sl48_ll24_pl12_dm1024_nh8_el2_dl1_df2048_atprob_fc5_ebtimeF_dtTrue_mxTrue'\n",
    "\n",
    "univariate_without_embedding_path_12_train_25_test_4_reversed = f'{RESULTS_FOLDER_PATH_TRAIN_25_TEST_4_REVERSED}/univariate_without_embedding_long_range_pred/results/informer_sl48_ll24_pl12_dm1024_nh8_el2_dl1_df2048_atprob_fc5_ebtimeF_dtTrue_mxTrue'\n",
    "\n",
    "univariate_with_embedding_path_24_train_25_test_4_reversed = f'{RESULTS_FOLDER_PATH_TRAIN_25_TEST_4_REVERSED}/univariate_with_embedding_long_range_pred_24/results/informer_sl96_ll48_pl24_dm1024_nh8_el2_dl1_df2048_atprob_fc5_ebtimeF_dtTrue_mxTrue'\n",
    "\n",
    "univariate_without_embedding_path_24_train_25_test_4_reversed = f'{RESULTS_FOLDER_PATH_TRAIN_25_TEST_4_REVERSED}/univariate_without_embedding_long_range_pred_24/results/informer_sl96_ll48_pl24_dm1024_nh8_el2_dl1_df2048_atprob_fc5_ebtimeF_dtTrue_mxTrue'\n",
    "\n",
    "univariate_with_embedding_path_60_train_25_test_4_reversed = f'{RESULTS_FOLDER_PATH_TRAIN_25_TEST_4_REVERSED}/univariate_with_embedding_long_range_pred_60/results/informer_sl240_ll120_pl60_dm2048_nh8_el2_dl1_df2048_atprob_fc5_ebtimeF_dtTrue_mxTrue'\n",
    "\n",
    "univariate_without_embedding_path_60_train_25_test_4_reversed = f'{RESULTS_FOLDER_PATH_TRAIN_25_TEST_4_REVERSED}/univariate_without_embedding_long_range_pred_60/results/informer_sl240_ll120_pl60_dm2048_nh8_el2_dl1_df2048_atprob_fc5_ebtimeF_dtTrue_mxTrue'"
   ],
   "metadata": {
    "collapsed": false,
    "ExecuteTime": {
     "end_time": "2024-09-27T10:42:26.646521Z",
     "start_time": "2024-09-27T10:42:26.644328Z"
    }
   },
   "id": "a0a4660eab469ef0",
   "execution_count": 128
  },
  {
   "cell_type": "code",
   "outputs": [],
   "source": [
    "metrics_univariate_with_emb_3_default = np.load(f'{univariate_with_embedding_path_3_default}/metrics.npy')\n",
    "metrics_univariate_without_emb_3_default = np.load(f'{univariate_without_embedding_path_3_default}/metrics.npy')\n",
    "\n",
    "metrics_univariate_with_emb_12_default = np.load(f'{univariate_with_embedding_path_12_default}/metrics.npy')\n",
    "metrics_univariate_without_emb_12_default = np.load(f'{univariate_without_embedding_path_12_default}/metrics.npy')\n",
    "\n",
    "metrics_univariate_with_emb_24_default = np.load(f'{univariate_with_embedding_path_24_default}/metrics.npy')\n",
    "metrics_univariate_without_emb_24_default = np.load(f'{univariate_without_embedding_path_24_default}/metrics.npy')\n",
    "\n",
    "metrics_univariate_with_emb_60_default = np.load(f'{univariate_with_embedding_path_60_default}/metrics.npy')\n",
    "metrics_univariate_without_emb_60_default = np.load(f'{univariate_without_embedding_path_60_default}/metrics.npy')"
   ],
   "metadata": {
    "collapsed": false,
    "ExecuteTime": {
     "end_time": "2024-09-27T10:42:26.671679Z",
     "start_time": "2024-09-27T10:42:26.665972Z"
    }
   },
   "id": "c3f07657d57fe5da",
   "execution_count": 129
  },
  {
   "cell_type": "code",
   "outputs": [],
   "source": [
    "metrics_univariate_with_emb_3_train_25_test_4 = np.load(f'{univariate_with_embedding_path_3_train_25_test_4}/metrics.npy')\n",
    "metrics_univariate_without_emb_3_train_25_test_4 = np.load(f'{univariate_without_embedding_path_3_train_25_test_4}/metrics.npy')\n",
    "\n",
    "metrics_univariate_with_emb_12_train_25_test_4 = np.load(f'{univariate_with_embedding_path_12_train_25_test_4}/metrics.npy')\n",
    "metrics_univariate_without_emb_12_train_25_test_4 = np.load(f'{univariate_without_embedding_path_12_train_25_test_4}/metrics.npy')\n",
    "\n",
    "metrics_univariate_with_emb_24_train_25_test_4 = np.load(f'{univariate_with_embedding_path_24_train_25_test_4}/metrics.npy')\n",
    "metrics_univariate_without_emb_24_train_25_test_4 = np.load(f'{univariate_without_embedding_path_24_train_25_test_4}/metrics.npy')\n",
    "\n",
    "metrics_univariate_with_emb_60_train_25_test_4 = np.load(f'{univariate_with_embedding_path_60_train_25_test_4}/metrics.npy')\n",
    "metrics_univariate_without_emb_60_train_25_test_4 = np.load(f'{univariate_without_embedding_path_60_train_25_test_4}/metrics.npy')"
   ],
   "metadata": {
    "collapsed": false,
    "ExecuteTime": {
     "end_time": "2024-09-27T10:42:26.690209Z",
     "start_time": "2024-09-27T10:42:26.685897Z"
    }
   },
   "id": "d514902a09abd21e",
   "execution_count": 130
  },
  {
   "cell_type": "code",
   "outputs": [],
   "source": [
    "metrics_univariate_with_emb_3_train_25_reversed = np.load(f'{univariate_with_embedding_path_3_train_25_reversed}/metrics.npy')\n",
    "metrics_univariate_without_emb_3_train_25_reversed = np.load(f'{univariate_without_embedding_path_3_train_25_reversed}/metrics.npy')\n",
    "\n",
    "metrics_univariate_with_emb_12_train_25_reversed = np.load(f'{univariate_with_embedding_path_12_train_25_reversed}/metrics.npy')\n",
    "metrics_univariate_without_emb_12_train_25_reversed = np.load(f'{univariate_without_embedding_path_12_train_25_reversed}/metrics.npy')\n",
    "\n",
    "metrics_univariate_with_emb_24_train_25_reversed = np.load(f'{univariate_with_embedding_path_24_train_25_reversed}/metrics.npy')\n",
    "metrics_univariate_without_emb_24_train_25_reversed = np.load(f'{univariate_without_embedding_path_24_train_25_reversed}/metrics.npy')\n",
    "\n",
    "metrics_univariate_with_emb_60_train_25_reversed = np.load(f'{univariate_with_embedding_path_60_train_25_reversed}/metrics.npy')\n",
    "metrics_univariate_without_emb_60_train_25_reversed = np.load(f'{univariate_without_embedding_path_60_train_25_reversed}/metrics.npy')"
   ],
   "metadata": {
    "collapsed": false,
    "ExecuteTime": {
     "end_time": "2024-09-27T10:42:26.711587Z",
     "start_time": "2024-09-27T10:42:26.707397Z"
    }
   },
   "id": "f12a469290812b6d",
   "execution_count": 131
  },
  {
   "cell_type": "code",
   "outputs": [],
   "source": [
    "metrics_univariate_with_emb_3_train_25_test_4_reversed = np.load(f'{univariate_with_embedding_path_3_train_25_test_4_reversed}/metrics.npy')\n",
    "metrics_univariate_without_emb_3_train_25_test_4_reversed = np.load(f'{univariate_without_embedding_path_3_train_25_test_4_reversed}/metrics.npy')\n",
    "\n",
    "metrics_univariate_with_emb_12_train_25_test_4_reversed = np.load(f'{univariate_with_embedding_path_12_train_25_test_4_reversed}/metrics.npy')\n",
    "metrics_univariate_without_emb_12_train_25_test_4_reversed = np.load(f'{univariate_without_embedding_path_12_train_25_test_4_reversed}/metrics.npy')\n",
    "\n",
    "metrics_univariate_with_emb_24_train_25_test_4_reversed = np.load(f'{univariate_with_embedding_path_24_train_25_test_4_reversed}/metrics.npy')\n",
    "metrics_univariate_without_emb_24_train_25_test_4_reversed = np.load(f'{univariate_without_embedding_path_24_train_25_test_4_reversed}/metrics.npy')\n",
    "\n",
    "metrics_univariate_with_emb_60_train_25_test_4_reversed = np.load(f'{univariate_with_embedding_path_60_train_25_test_4_reversed}/metrics.npy')\n",
    "metrics_univariate_without_emb_60_train_25_test_4_reversed = np.load(f'{univariate_without_embedding_path_60_train_25_test_4_reversed}/metrics.npy')"
   ],
   "metadata": {
    "collapsed": false,
    "ExecuteTime": {
     "end_time": "2024-09-27T10:42:26.727637Z",
     "start_time": "2024-09-27T10:42:26.723545Z"
    }
   },
   "id": "8f4e8ec0d1efad02",
   "execution_count": 132
  },
  {
   "cell_type": "code",
   "outputs": [],
   "source": [
    "mae_values_with_temporal_embedding = [\n",
    "    metrics_univariate_with_emb_3_default[0],\n",
    "    metrics_univariate_with_emb_3_train_25_test_4[0],\n",
    "    metrics_univariate_with_emb_3_train_25_reversed[0],\n",
    "    metrics_univariate_with_emb_3_train_25_test_4_reversed[0],\n",
    "    \n",
    "    metrics_univariate_with_emb_12_default[0],\n",
    "    metrics_univariate_with_emb_12_train_25_test_4[0],\n",
    "    metrics_univariate_with_emb_12_train_25_reversed[0],\n",
    "    metrics_univariate_with_emb_12_train_25_test_4_reversed[0],\n",
    "    \n",
    "    metrics_univariate_with_emb_24_default[0],\n",
    "    metrics_univariate_with_emb_24_train_25_test_4[0],\n",
    "    metrics_univariate_with_emb_24_train_25_reversed[0],\n",
    "    metrics_univariate_with_emb_24_train_25_test_4_reversed[0],\n",
    "    \n",
    "    metrics_univariate_with_emb_60_default[0],\n",
    "    metrics_univariate_with_emb_60_train_25_test_4[0],\n",
    "    metrics_univariate_with_emb_60_train_25_reversed[0],\n",
    "    metrics_univariate_with_emb_60_train_25_test_4_reversed[0],\n",
    "]\n",
    "\n",
    "mse_values_with_temporal_embedding = [\n",
    "    metrics_univariate_with_emb_3_default[1],\n",
    "    metrics_univariate_with_emb_3_train_25_test_4[1],\n",
    "    metrics_univariate_with_emb_3_train_25_reversed[1],\n",
    "    metrics_univariate_with_emb_3_train_25_test_4_reversed[1],\n",
    "    \n",
    "    metrics_univariate_with_emb_12_default[1],\n",
    "    metrics_univariate_with_emb_12_train_25_test_4[1],\n",
    "    metrics_univariate_with_emb_12_train_25_reversed[1],\n",
    "    metrics_univariate_with_emb_12_train_25_test_4_reversed[1],\n",
    "    \n",
    "    metrics_univariate_with_emb_24_default[1],\n",
    "    metrics_univariate_with_emb_24_train_25_test_4[1],\n",
    "    metrics_univariate_with_emb_24_train_25_reversed[1],\n",
    "    metrics_univariate_with_emb_24_train_25_test_4_reversed[1],\n",
    "    \n",
    "    metrics_univariate_with_emb_60_default[1],\n",
    "    metrics_univariate_with_emb_60_train_25_test_4[1],\n",
    "    metrics_univariate_with_emb_60_train_25_reversed[1],\n",
    "    metrics_univariate_with_emb_60_train_25_test_4_reversed[1],\n",
    "]\n",
    "\n",
    "mape_values_with_temporal_embedding = [\n",
    "    metrics_univariate_with_emb_3_default[3],\n",
    "    metrics_univariate_with_emb_3_train_25_test_4[3],\n",
    "    metrics_univariate_with_emb_3_train_25_reversed[3],\n",
    "    metrics_univariate_with_emb_3_train_25_test_4_reversed[3],\n",
    "    \n",
    "    metrics_univariate_with_emb_12_default[3],\n",
    "    metrics_univariate_with_emb_12_train_25_test_4[3],\n",
    "    metrics_univariate_with_emb_12_train_25_reversed[3],\n",
    "    metrics_univariate_with_emb_12_train_25_test_4_reversed[3],\n",
    "    \n",
    "    metrics_univariate_with_emb_24_default[3],\n",
    "    metrics_univariate_with_emb_24_train_25_test_4[3],\n",
    "    metrics_univariate_with_emb_24_train_25_reversed[3],\n",
    "    metrics_univariate_with_emb_24_train_25_test_4_reversed[3],\n",
    "    \n",
    "    metrics_univariate_with_emb_60_default[3],\n",
    "    metrics_univariate_with_emb_60_train_25_test_4[3],\n",
    "    metrics_univariate_with_emb_60_train_25_reversed[3],\n",
    "    metrics_univariate_with_emb_60_train_25_test_4_reversed[3],\n",
    "]"
   ],
   "metadata": {
    "collapsed": false,
    "ExecuteTime": {
     "end_time": "2024-09-27T10:42:26.749431Z",
     "start_time": "2024-09-27T10:42:26.745774Z"
    }
   },
   "id": "e97ba6a50efd2bfa",
   "execution_count": 133
  },
  {
   "cell_type": "code",
   "outputs": [],
   "source": [
    "mae_values_without_temporal_embedding = [\n",
    "    metrics_univariate_without_emb_3_default[0],\n",
    "    metrics_univariate_without_emb_3_train_25_test_4[0],\n",
    "    metrics_univariate_without_emb_3_train_25_reversed[0],\n",
    "    metrics_univariate_without_emb_3_train_25_test_4_reversed[0],\n",
    "    \n",
    "    metrics_univariate_without_emb_12_default[0],\n",
    "    metrics_univariate_without_emb_12_train_25_test_4[0],\n",
    "    metrics_univariate_without_emb_12_train_25_reversed[0],\n",
    "    metrics_univariate_without_emb_12_train_25_test_4_reversed[0],\n",
    "    \n",
    "    metrics_univariate_without_emb_24_default[0],\n",
    "    metrics_univariate_without_emb_24_train_25_test_4[0],\n",
    "    metrics_univariate_without_emb_24_train_25_reversed[0],\n",
    "    metrics_univariate_without_emb_24_train_25_test_4_reversed[0],\n",
    "    \n",
    "    metrics_univariate_without_emb_60_default[0],\n",
    "    metrics_univariate_without_emb_60_train_25_test_4[0],\n",
    "    metrics_univariate_without_emb_60_train_25_reversed[0],\n",
    "    metrics_univariate_without_emb_60_train_25_test_4_reversed[0],\n",
    "]\n",
    "\n",
    "mse_values_without_temporal_embedding = [\n",
    "    metrics_univariate_without_emb_3_default[1],\n",
    "    metrics_univariate_without_emb_3_train_25_test_4[1],\n",
    "    metrics_univariate_without_emb_3_train_25_reversed[1],\n",
    "    metrics_univariate_without_emb_3_train_25_test_4_reversed[1],\n",
    "    \n",
    "    metrics_univariate_without_emb_12_default[1],\n",
    "    metrics_univariate_without_emb_12_train_25_test_4[1],\n",
    "    metrics_univariate_without_emb_12_train_25_reversed[1],\n",
    "    metrics_univariate_without_emb_12_train_25_test_4_reversed[1],\n",
    "    \n",
    "    metrics_univariate_without_emb_24_default[1],\n",
    "    metrics_univariate_without_emb_24_train_25_test_4[1],\n",
    "    metrics_univariate_without_emb_24_train_25_reversed[1],\n",
    "    metrics_univariate_without_emb_24_train_25_test_4_reversed[1],\n",
    "    \n",
    "    metrics_univariate_without_emb_60_default[1],\n",
    "    metrics_univariate_without_emb_60_train_25_test_4[1],\n",
    "    metrics_univariate_without_emb_60_train_25_reversed[1],\n",
    "    metrics_univariate_without_emb_60_train_25_test_4_reversed[1],\n",
    "]\n",
    "\n",
    "mape_values_without_temporal_embedding = [\n",
    "    metrics_univariate_with_emb_3_default[3],\n",
    "    metrics_univariate_with_emb_3_train_25_test_4[3],\n",
    "    metrics_univariate_with_emb_3_train_25_reversed[3],\n",
    "    metrics_univariate_with_emb_3_train_25_test_4_reversed[3],\n",
    "    \n",
    "    metrics_univariate_with_emb_12_default[3],\n",
    "    metrics_univariate_with_emb_12_train_25_test_4[3],\n",
    "    metrics_univariate_with_emb_12_train_25_reversed[3],\n",
    "    metrics_univariate_with_emb_12_train_25_test_4_reversed[3],\n",
    "    \n",
    "    metrics_univariate_with_emb_24_default[3],\n",
    "    metrics_univariate_with_emb_24_train_25_test_4[3],\n",
    "    metrics_univariate_with_emb_24_train_25_reversed[3],\n",
    "    metrics_univariate_with_emb_24_train_25_test_4_reversed[3],\n",
    "    \n",
    "    metrics_univariate_with_emb_60_default[3],\n",
    "    metrics_univariate_with_emb_60_train_25_test_4[3],\n",
    "    metrics_univariate_with_emb_60_train_25_reversed[3],\n",
    "    metrics_univariate_with_emb_60_train_25_test_4_reversed[3],\n",
    "]"
   ],
   "metadata": {
    "collapsed": false,
    "ExecuteTime": {
     "end_time": "2024-09-27T10:42:26.768630Z",
     "start_time": "2024-09-27T10:42:26.765062Z"
    }
   },
   "id": "ac7680f57d081348",
   "execution_count": 134
  },
  {
   "cell_type": "code",
   "outputs": [
    {
     "data": {
      "text/plain": "<Figure size 1800x600 with 3 Axes>",
      "image/png": "[encoded data removed]"
     },
     "metadata": {},
     "output_type": "display_data"
    }
   ],
   "source": [
    "labels = ['Uni_f_3', 'Uni_f_12', 'Uni_f_24', 'Uni_f_60']\n",
    "x = np.arange(len(labels))\n",
    "width = 0.2\n",
    "\n",
    "fig, axes = plt.subplots(1, 3, figsize=(18, 6))\n",
    "\n",
    "# MAE\n",
    "axes[0].bar(x - 1.5 * width, mae_values_with_temporal_embedding[::4], width, label='Default')\n",
    "axes[0].bar(x - 0.5 * width, mae_values_with_temporal_embedding[1::4], width, label='Train with 25 and Test with 4')\n",
    "axes[0].bar(x + 0.5 * width, mae_values_with_temporal_embedding[2::4], width, label='Train with 25 Reversed')\n",
    "axes[0].bar(x + 1.5 * width, mae_values_with_temporal_embedding[3::4], width, label='Train with 25 and Test with 4 Reversed')\n",
    "axes[0].set_title('MAE')\n",
    "axes[0].set_xticks(x)\n",
    "axes[0].set_xticklabels(labels)\n",
    "axes[0].legend()\n",
    "\n",
    "# MSE\n",
    "axes[1].bar(x - 1.5 * width, mse_values_with_temporal_embedding[::4], width, label='Default')\n",
    "axes[1].bar(x - 0.5 * width, mse_values_with_temporal_embedding[1::4], width, label='Train with 25 and Test with 4')\n",
    "axes[1].bar(x + 0.5 * width, mse_values_with_temporal_embedding[2::4], width, label='Train with 25 Reversed')\n",
    "axes[1].bar(x + 1.5 * width, mse_values_with_temporal_embedding[3::4], width, label='Train with 25 and Test with 4 Reversed')\n",
    "axes[1].set_title('MSE')\n",
    "axes[1].set_xticks(x)\n",
    "axes[1].set_xticklabels(labels)\n",
    "axes[1].legend()\n",
    "\n",
    "# MAPE\n",
    "axes[2].bar(x - 1.5 * width, mape_values_with_temporal_embedding[::4], width, label='Default')\n",
    "axes[2].bar(x - 0.5 * width, mape_values_with_temporal_embedding[1::4], width, label='Train with 25 and Test with 4')\n",
    "axes[2].bar(x + 0.5 * width, mape_values_with_temporal_embedding[2::4], width, label='Train with 25 Reversed')\n",
    "axes[2].bar(x + 1.5 * width, mape_values_with_temporal_embedding[3::4], width, label='Train with 25 and Test with 4 Reversed')\n",
    "axes[2].set_title('MAPE')\n",
    "axes[2].set_xticks(x)\n",
    "axes[2].set_xticklabels(labels)\n",
    "axes[2].legend()\n",
    "\n",
    "plt.tight_layout()\n",
    "plt.savefig(f'{PLOTS_PATH}/test_metrics_with_temporal_embedding.png')\n",
    "plt.show()"
   ],
   "metadata": {
    "collapsed": false,
    "ExecuteTime": {
     "end_time": "2024-09-27T10:42:27.194250Z",
     "start_time": "2024-09-27T10:42:26.786792Z"
    }
   },
   "id": "18ca18790054bc98",
   "execution_count": 135
  },
  {
   "cell_type": "code",
   "outputs": [
    {
     "data": {
      "text/plain": "<Figure size 1800x600 with 3 Axes>",
      "image/png": "[encoded data removed]"
     },
     "metadata": {},
     "output_type": "display_data"
    }
   ],
   "source": [
    "labels = ['Uni_f_3', 'Uni_f_12', 'Uni_f_24', 'Uni_f_60']\n",
    "x = np.arange(len(labels))\n",
    "width = 0.20\n",
    "\n",
    "fig, axes = plt.subplots(1, 3, figsize=(18, 6))\n",
    "\n",
    "# MAE\n",
    "axes[0].bar(x - 1.5 * width, mae_values_without_temporal_embedding[::4], width, label='Default')\n",
    "axes[0].bar(x - 0.5 * width, mae_values_without_temporal_embedding[1::4], width, label='Train with 25 and Test with 4')\n",
    "axes[0].bar(x + 0.5 * width, mae_values_without_temporal_embedding[2::4], width, label='Train with 25 Reversed')\n",
    "axes[0].bar(x + 1.5 * width, mae_values_without_temporal_embedding[3::4], width, label='Train with 25 and Test with 4 Reversed')\n",
    "axes[0].set_title('MAE')\n",
    "axes[0].set_xticks(x)\n",
    "axes[0].set_xticklabels(labels)\n",
    "axes[0].legend()\n",
    "\n",
    "# MSE\n",
    "axes[1].bar(x - 1.5 * width, mse_values_without_temporal_embedding[::4], width, label='Default')\n",
    "axes[1].bar(x - 0.5 * width, mse_values_without_temporal_embedding[1::4], width, label='Train with 25 and Test with 4')\n",
    "axes[1].bar(x + 0.5 * width, mse_values_without_temporal_embedding[2::4], width, label='Train with 25 Reversed')\n",
    "axes[1].bar(x + 1.5 * width, mse_values_without_temporal_embedding[3::4], width, label='Train with 25 and Test with 4 Reversed')\n",
    "axes[1].set_title('MSE')\n",
    "axes[1].set_xticks(x)\n",
    "axes[1].set_xticklabels(labels)\n",
    "axes[1].legend()\n",
    "\n",
    "# MAPE\n",
    "axes[2].bar(x - 1.5 * width, mape_values_without_temporal_embedding[::4], width, label='Default')\n",
    "axes[2].bar(x - 0.5 * width, mape_values_without_temporal_embedding[1::4], width, label='Train with 25 and Test with 4')\n",
    "axes[2].bar(x + 0.5 * width, mape_values_without_temporal_embedding[2::4], width, label='Train with 25 Reversed')\n",
    "axes[2].bar(x + 1.5 * width, mape_values_without_temporal_embedding[3::4], width, label='Train with 25 and Test with 4 Reversed')\n",
    "axes[2].set_title('MAPE')\n",
    "axes[2].set_xticks(x)\n",
    "axes[2].set_xticklabels(labels)\n",
    "axes[2].legend()\n",
    "\n",
    "plt.tight_layout()\n",
    "plt.savefig(f'{PLOTS_PATH}/test_metrics_without_temporal_embedding.png')\n",
    "plt.show()"
   ],
   "metadata": {
    "collapsed": false,
    "ExecuteTime": {
     "end_time": "2024-09-27T10:42:27.595285Z",
     "start_time": "2024-09-27T10:42:27.195343Z"
    }
   },
   "id": "79a0e4945b4fdfc9",
   "execution_count": 136
  },
  {
   "cell_type": "code",
   "outputs": [],
   "source": [],
   "metadata": {
    "collapsed": false,
    "ExecuteTime": {
     "end_time": "2024-09-27T10:42:27.597545Z",
     "start_time": "2024-09-27T10:42:27.596119Z"
    }
   },
   "id": "51ac3f519d856c7b",
   "execution_count": 136
  }
 ],
 "metadata": {
  "kernelspec": {
   "display_name": "Python 3",
   "language": "python",
   "name": "python3"
  },
  "language_info": {
   "codemirror_mode": {
    "name": "ipython",
    "version": 2
   },
   "file_extension": ".py",
   "mimetype": "text/x-python",
   "name": "python",
   "nbconvert_exporter": "python",
   "pygments_lexer": "ipython2",
   "version": "2.7.6"
  }
 },
 "nbformat": 4,
 "nbformat_minor": 5
}
