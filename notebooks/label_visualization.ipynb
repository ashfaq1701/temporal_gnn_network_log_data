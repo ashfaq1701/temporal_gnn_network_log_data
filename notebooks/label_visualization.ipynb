{
 "cells": [
  {
   "cell_type": "code",
   "execution_count": 1,
   "id": "initial_id",
   "metadata": {
    "collapsed": true,
    "ExecuteTime": {
     "end_time": "2024-07-16T19:30:53.474948Z",
     "start_time": "2024-07-16T19:30:53.468050Z"
    }
   },
   "outputs": [
    {
     "data": {
      "text/plain": "True"
     },
     "execution_count": 1,
     "metadata": {},
     "output_type": "execute_result"
    }
   ],
   "source": [
    "from dotenv import load_dotenv\n",
    "\n",
    "load_dotenv()"
   ]
  },
  {
   "cell_type": "code",
   "outputs": [],
   "source": [
    "from src.preprocess.functions import get_stats_object\n",
    "\n",
    "stats = get_stats_object()"
   ],
   "metadata": {
    "collapsed": false,
    "ExecuteTime": {
     "end_time": "2024-07-16T19:31:45.941297Z",
     "start_time": "2024-07-16T19:30:53.475921Z"
    }
   },
   "id": "ff1eb50d2e345a2a",
   "execution_count": 2
  },
  {
   "cell_type": "code",
   "outputs": [
    {
     "data": {
      "text/plain": "20160"
     },
     "execution_count": 3,
     "metadata": {},
     "output_type": "execute_result"
    }
   ],
   "source": [
    "len(stats)"
   ],
   "metadata": {
    "collapsed": false,
    "ExecuteTime": {
     "end_time": "2024-07-16T19:31:45.947100Z",
     "start_time": "2024-07-16T19:31:45.943321Z"
    }
   },
   "id": "5978981f07fe79a8",
   "execution_count": 3
  },
  {
   "cell_type": "code",
   "outputs": [],
   "source": [
    "from src.preprocess.functions import sample_downstream_microservice\n",
    "\n",
    "sampled_microservice = sample_downstream_microservice(stats)"
   ],
   "metadata": {
    "collapsed": false,
    "ExecuteTime": {
     "end_time": "2024-07-16T19:32:16.618823Z",
     "start_time": "2024-07-16T19:31:45.947887Z"
    }
   },
   "id": "b4c5b99dbf11a60",
   "execution_count": 4
  },
  {
   "cell_type": "code",
   "outputs": [],
   "source": [
    "from src.preprocess.functions import get_microservice_workload\n",
    "\n",
    "workloads_for_sampled_microservice = get_microservice_workload(stats, sampled_microservice)"
   ],
   "metadata": {
    "collapsed": false,
    "ExecuteTime": {
     "end_time": "2024-07-16T19:32:17.098841Z",
     "start_time": "2024-07-16T19:32:16.624445Z"
    }
   },
   "id": "4504f73b41ae2a77",
   "execution_count": 5
  },
  {
   "cell_type": "code",
   "outputs": [],
   "source": [],
   "metadata": {
    "collapsed": false,
    "ExecuteTime": {
     "end_time": "2024-07-16T19:32:17.100905Z",
     "start_time": "2024-07-16T19:32:17.099632Z"
    }
   },
   "id": "c95b2f53423b44e6",
   "execution_count": 5
  }
 ],
 "metadata": {
  "kernelspec": {
   "display_name": "Python 3",
   "language": "python",
   "name": "python3"
  },
  "language_info": {
   "codemirror_mode": {
    "name": "ipython",
    "version": 2
   },
   "file_extension": ".py",
   "mimetype": "text/x-python",
   "name": "python",
   "nbconvert_exporter": "python",
   "pygments_lexer": "ipython2",
   "version": "2.7.6"
  }
 },
 "nbformat": 4,
 "nbformat_minor": 5
}
