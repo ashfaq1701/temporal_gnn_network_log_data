{
 "cells": [
  {
   "cell_type": "code",
   "execution_count": 1,
   "id": "initial_id",
   "metadata": {
    "collapsed": true,
    "ExecuteTime": {
     "end_time": "2024-08-22T13:54:46.096974Z",
     "start_time": "2024-08-22T13:54:45.770905Z"
    }
   },
   "outputs": [
    {
     "data": {
      "text/plain": "True"
     },
     "execution_count": 1,
     "metadata": {},
     "output_type": "execute_result"
    }
   ],
   "source": [
    "import matplotlib.pyplot as plt\n",
    "from dotenv import load_dotenv\n",
    "\n",
    "load_dotenv()"
   ]
  },
  {
   "cell_type": "code",
   "outputs": [],
   "source": [
    "from src.forecasting.informer.data.dataset import WorkloadPredictionDataset\n",
    "\n",
    "train_dataset = WorkloadPredictionDataset(\n",
    "    n_nodes=78,\n",
    "    d_embed=172,\n",
    "    dataset='train',\n",
    "    train_start_minute=0,\n",
    "    train_end_minute=11520,\n",
    "    valid_start_minute=11520,\n",
    "    valid_end_minute=15840,\n",
    "    test_start_minute=15840,\n",
    "    test_end_minute=20160,\n",
    "    seq_len=12,\n",
    "    label_len=6,\n",
    "    pred_len=3,\n",
    "    use_temporal_embedding=True\n",
    ")"
   ],
   "metadata": {
    "collapsed": false,
    "ExecuteTime": {
     "end_time": "2024-08-21T18:17:29.732442Z",
     "start_time": "2024-08-21T18:17:28.240202Z"
    }
   },
   "id": "7343e98fd9880cc",
   "execution_count": 29
  },
  {
   "cell_type": "code",
   "outputs": [],
   "source": [
    "for batch in train_dataset:\n",
    "    batch_x, batch_y, batch_x_mark, batch_y_mark = batch"
   ],
   "metadata": {
    "collapsed": false,
    "ExecuteTime": {
     "end_time": "2024-08-21T18:17:29.742725Z",
     "start_time": "2024-08-21T18:17:29.733547Z"
    }
   },
   "id": "e51c9bbc199245f8",
   "execution_count": 30
  },
  {
   "cell_type": "code",
   "outputs": [
    {
     "data": {
      "text/plain": "((11520, 13494), (11520, 78))"
     },
     "execution_count": 31,
     "metadata": {},
     "output_type": "execute_result"
    }
   ],
   "source": [
    "train_dataset.data.shape, train_dataset.labels.shape"
   ],
   "metadata": {
    "collapsed": false,
    "ExecuteTime": {
     "end_time": "2024-08-21T18:17:29.745598Z",
     "start_time": "2024-08-21T18:17:29.743358Z"
    }
   },
   "id": "d1a2cf84211708e8",
   "execution_count": 31
  },
  {
   "cell_type": "code",
   "outputs": [],
   "source": [
    "valid_dataset = WorkloadPredictionDataset(\n",
    "    n_nodes=78,\n",
    "    d_embed=172,\n",
    "    dataset='valid',\n",
    "    train_start_minute=0,\n",
    "    train_end_minute=11520,\n",
    "    valid_start_minute=11520,\n",
    "    valid_end_minute=15840,\n",
    "    test_start_minute=15840,\n",
    "    test_end_minute=20160,\n",
    "    seq_len=12,\n",
    "    label_len=6,\n",
    "    pred_len=3,\n",
    "    use_temporal_embedding=True\n",
    ")"
   ],
   "metadata": {
    "collapsed": false,
    "ExecuteTime": {
     "end_time": "2024-08-21T18:17:31.188360Z",
     "start_time": "2024-08-21T18:17:29.746852Z"
    }
   },
   "id": "ff65f255671879d7",
   "execution_count": 32
  },
  {
   "cell_type": "code",
   "outputs": [],
   "source": [
    "for batch in valid_dataset:\n",
    "    batch_x, batch_y, batch_x_mark, batch_y_mark = batch"
   ],
   "metadata": {
    "collapsed": false,
    "ExecuteTime": {
     "end_time": "2024-08-21T18:17:31.193678Z",
     "start_time": "2024-08-21T18:17:31.189019Z"
    }
   },
   "id": "a3486296fa9edb79",
   "execution_count": 33
  },
  {
   "cell_type": "code",
   "outputs": [
    {
     "data": {
      "text/plain": "((4320, 13494), (4320, 78))"
     },
     "execution_count": 34,
     "metadata": {},
     "output_type": "execute_result"
    }
   ],
   "source": [
    "valid_dataset.data.shape, valid_dataset.labels.shape"
   ],
   "metadata": {
    "collapsed": false,
    "ExecuteTime": {
     "end_time": "2024-08-21T18:17:31.196438Z",
     "start_time": "2024-08-21T18:17:31.194304Z"
    }
   },
   "id": "137fcaedfc55737e",
   "execution_count": 34
  },
  {
   "cell_type": "code",
   "outputs": [],
   "source": [
    "test_dataset = WorkloadPredictionDataset(\n",
    "    n_nodes=78,\n",
    "    d_embed=172,\n",
    "    dataset='test',\n",
    "    train_start_minute=0,\n",
    "    train_end_minute=11520,\n",
    "    valid_start_minute=11520,\n",
    "    valid_end_minute=15840,\n",
    "    test_start_minute=15840,\n",
    "    test_end_minute=20160,\n",
    "    seq_len=12,\n",
    "    label_len=6,\n",
    "    pred_len=3,\n",
    "    use_temporal_embedding=True\n",
    ")"
   ],
   "metadata": {
    "collapsed": false,
    "ExecuteTime": {
     "end_time": "2024-08-21T18:17:32.656118Z",
     "start_time": "2024-08-21T18:17:31.197072Z"
    }
   },
   "id": "149da12530f4fa1e",
   "execution_count": 35
  },
  {
   "cell_type": "code",
   "outputs": [
    {
     "data": {
      "text/plain": "((4320, 13494), (4320, 78))"
     },
     "execution_count": 36,
     "metadata": {},
     "output_type": "execute_result"
    }
   ],
   "source": [
    "test_dataset.data.shape, test_dataset.labels.shape"
   ],
   "metadata": {
    "collapsed": false,
    "ExecuteTime": {
     "end_time": "2024-08-21T18:17:32.659335Z",
     "start_time": "2024-08-21T18:17:32.656800Z"
    }
   },
   "id": "dd42dd1d21351c96",
   "execution_count": 36
  },
  {
   "cell_type": "code",
   "outputs": [],
   "source": [
    "for batch in test_dataset:\n",
    "    batch_x, batch_y, batch_x_mark, batch_y_mark = batch"
   ],
   "metadata": {
    "collapsed": false,
    "ExecuteTime": {
     "end_time": "2024-08-21T18:17:32.664238Z",
     "start_time": "2024-08-21T18:17:32.659919Z"
    }
   },
   "id": "1ddb0ecad665bd99",
   "execution_count": 37
  },
  {
   "cell_type": "code",
   "outputs": [],
   "source": [
    "train_dataset_without_embedding = WorkloadPredictionDataset(\n",
    "    n_nodes=78,\n",
    "    d_embed=172,\n",
    "    dataset='train',\n",
    "    train_start_minute=0,\n",
    "    train_end_minute=11520,\n",
    "    valid_start_minute=11520,\n",
    "    valid_end_minute=15840,\n",
    "    test_start_minute=15840,\n",
    "    test_end_minute=20160,\n",
    "    seq_len=12,\n",
    "    label_len=6,\n",
    "    pred_len=3,\n",
    "    use_temporal_embedding=False\n",
    ")"
   ],
   "metadata": {
    "collapsed": false,
    "ExecuteTime": {
     "end_time": "2024-08-21T18:17:33.635282Z",
     "start_time": "2024-08-21T18:17:32.665889Z"
    }
   },
   "id": "c823ff950047b090",
   "execution_count": 38
  },
  {
   "cell_type": "code",
   "outputs": [
    {
     "data": {
      "text/plain": "((11520, 78), (11520, 78))"
     },
     "execution_count": 39,
     "metadata": {},
     "output_type": "execute_result"
    }
   ],
   "source": [
    "train_dataset_without_embedding.data.shape, train_dataset_without_embedding.labels.shape"
   ],
   "metadata": {
    "collapsed": false,
    "ExecuteTime": {
     "end_time": "2024-08-21T18:17:33.641268Z",
     "start_time": "2024-08-21T18:17:33.636636Z"
    }
   },
   "id": "d933ea65663661be",
   "execution_count": 39
  },
  {
   "cell_type": "code",
   "outputs": [],
   "source": [
    "train_dataset_with_node = WorkloadPredictionDataset(\n",
    "    n_nodes=78,\n",
    "    d_embed=172,\n",
    "    dataset='train',\n",
    "    train_start_minute=0,\n",
    "    train_end_minute=11520,\n",
    "    valid_start_minute=11520,\n",
    "    valid_end_minute=15840,\n",
    "    test_start_minute=15840,\n",
    "    test_end_minute=20160,\n",
    "    seq_len=12,\n",
    "    label_len=6,\n",
    "    pred_len=3,\n",
    "    use_temporal_embedding=True,\n",
    "    node_id=8\n",
    ")"
   ],
   "metadata": {
    "collapsed": false,
    "ExecuteTime": {
     "end_time": "2024-08-21T18:17:34.014676Z",
     "start_time": "2024-08-21T18:17:33.642805Z"
    }
   },
   "id": "30b0940834a6fa3",
   "execution_count": 40
  },
  {
   "cell_type": "code",
   "outputs": [
    {
     "data": {
      "text/plain": "((11520, 173), (11520, 1))"
     },
     "execution_count": 41,
     "metadata": {},
     "output_type": "execute_result"
    }
   ],
   "source": [
    "train_dataset_with_node.data.shape, train_dataset_with_node.labels.shape"
   ],
   "metadata": {
    "collapsed": false,
    "ExecuteTime": {
     "end_time": "2024-08-21T18:17:34.017935Z",
     "start_time": "2024-08-21T18:17:34.015495Z"
    }
   },
   "id": "445217f1c74b4a39",
   "execution_count": 41
  },
  {
   "cell_type": "code",
   "outputs": [
    {
     "data": {
      "text/plain": "[<matplotlib.lines.Line2D at 0x10f702710>]"
     },
     "execution_count": 23,
     "metadata": {},
     "output_type": "execute_result"
    },
    {
     "data": {
      "text/plain": "<Figure size 640x480 with 1 Axes>",
      "image/png": "[encoded data removed]"
     },
     "metadata": {},
     "output_type": "display_data"
    }
   ],
   "source": [
    "from src.utils import get_workloads_for_specific_microservice\n",
    "\n",
    "workloads = get_workloads_for_specific_microservice(5)\n",
    "plt.plot(workloads)"
   ],
   "metadata": {
    "collapsed": false,
    "ExecuteTime": {
     "end_time": "2024-08-22T14:06:59.440658Z",
     "start_time": "2024-08-22T14:06:59.320176Z"
    }
   },
   "id": "deb3c6de697ba8ea",
   "execution_count": 23
  },
  {
   "cell_type": "code",
   "outputs": [],
   "source": [],
   "metadata": {
    "collapsed": false
   },
   "id": "f45ec1b676d1fa4c"
  }
 ],
 "metadata": {
  "kernelspec": {
   "display_name": "Python 3",
   "language": "python",
   "name": "python3"
  },
  "language_info": {
   "codemirror_mode": {
    "name": "ipython",
    "version": 2
   },
   "file_extension": ".py",
   "mimetype": "text/x-python",
   "name": "python",
   "nbconvert_exporter": "python",
   "pygments_lexer": "ipython2",
   "version": "2.7.6"
  }
 },
 "nbformat": 4,
 "nbformat_minor": 5
}
